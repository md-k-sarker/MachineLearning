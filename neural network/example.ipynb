{
 "cells": [
  {
   "cell_type": "code",
   "execution_count": 2,
   "metadata": {},
   "outputs": [],
   "source": [
    "'''\n",
    "Created on Nov 7, 2016\n",
    "@author: sarker\n",
    "'''\n",
    "\n",
    "\n",
    "import matplotlib.pyplot as plt\n",
    "import numpy as np\n",
    "import ManipulateData\n",
    "from NeuralNetwork import NeuralNetwork\n",
    "\n",
    "\n",
    "'''Get data and shuffle data'''\n",
    "dataMatrix = ManipulateData.getDataMatrixFromCSV('winedata.csv')\n",
    "dataMatrix = ManipulateData.convertDatatoFloat(dataMatrix)\n",
    "dataMatrix = ManipulateData.shuffleData(dataMatrix)\n",
    "\n",
    "'''take class and features from the data'''\n",
    "classes = dataMatrix[:, 0]\n",
    "features = dataMatrix[:, range(1, 14)]\n",
    "\n",
    "'''get Normalized inputFeature as matrix'''\n",
    "inputFeatures = ManipulateData.getNormalizedData(features)\n",
    "\n",
    "\n",
    "'''get Vectorized Output.\n",
    "For 3 class it would be [x x x].\n",
    "For 2 class it would be [x x]'''\n",
    "outputVector = ManipulateData.getVectorizedClassValues(classes)\n",
    "\n",
    "'''Split data into train, validate and test'''\n",
    "trainData, trainOutput, validationData, validationOutput, testData, testOutput = ManipulateData.splitTrainValidateAndTestData(\n",
    "    inputFeatures, outputVector, .6, .2, .2)"
   ]
  },
  {
   "cell_type": "code",
   "execution_count": null,
   "metadata": {},
   "outputs": [],
   "source": [
    "'''set train parameters'''\n",
    "maxIteration = 20\n",
    "minError = 1e-2\n",
    "learningRate = 0.3\n",
    "noOfHiddenLayer = 1\n",
    "hln = 5\n",
    "\n",
    "'''initilize neural network'''\n",
    "neuralnetwork = NeuralNetwork(classes, features, noOfHiddenLayer, hln)\n",
    "\n",
    "'''train neural network'''\n",
    "Weight, costsPerIteration = neuralnetwork.trainModel(\n",
    "    trainData, trainOutput, maxIteration, minError, learningRate, True)"
   ]
  },
  {
   "cell_type": "code",
   "execution_count": null,
   "metadata": {},
   "outputs": [],
   "source": [
    "'''test the performance of the network'''\n",
    "predictedClasses = neuralnetwork.testModel(testData, testOutput, Weight)"
   ]
  },
  {
   "cell_type": "code",
   "execution_count": null,
   "metadata": {},
   "outputs": [],
   "source": [
    "fig = plt.figure()\n",
    "'''Plot costs'''\n",
    "costFig = fig.add_subplot(1, 2, 1)\n",
    "costFig.scatter(range(0, len(costsPerIteration)),\n",
    "                costsPerIteration, c='b', marker='+', s=15)\n",
    "costFig.set_ylabel(\"Costs Per Iteration\")\n",
    "costFig.set_xlabel('Iteration')\n",
    "costFig.set_title('Cost(J(0)) vs Iteration')\n",
    "\n",
    "'''Plot actual and predicted classes'''\n",
    "actual = [np.argmax(v) + 1 for v in validationOutput]\n",
    "predicted = [np.argmax(v) + 1 for v in predictedClasses]\n",
    "actualV = fig.add_subplot(1, 2, 2)\n",
    "actualV.scatter(range(0, len(actual)), actual, c='g', marker='+', s=15)\n",
    "actualV.scatter(range(0, len(actual)), predicted, c='r', marker='x', s=50)\n",
    "actualV.legend(['Actual Class(Y)', 'Predicted Class(Y)'], loc='upper left')\n",
    "actualV.set_ylabel(\"Class\")\n",
    "actualV.set_xlabel('Data sample no.')\n",
    "actualV.set_title('Class value for each data sample')\n",
    "\n",
    "\n",
    "plt.show()"
   ]
  },
  {
   "cell_type": "code",
   "execution_count": 20,
   "metadata": {},
   "outputs": [
    {
     "data": {
      "text/plain": [
       "5"
      ]
     },
     "execution_count": 20,
     "metadata": {},
     "output_type": "execute_result"
    }
   ],
   "source": [
    "np.array(a).shape[1]"
   ]
  },
  {
   "cell_type": "code",
   "execution_count": null,
   "metadata": {},
   "outputs": [],
   "source": []
  }
 ],
 "metadata": {
  "kernelspec": {
   "display_name": "Python 3",
   "language": "python",
   "name": "python3"
  },
  "language_info": {
   "codemirror_mode": {
    "name": "ipython",
    "version": 3
   },
   "file_extension": ".py",
   "mimetype": "text/x-python",
   "name": "python",
   "nbconvert_exporter": "python",
   "pygments_lexer": "ipython3",
   "version": "3.6.3"
  }
 },
 "nbformat": 4,
 "nbformat_minor": 2
}
